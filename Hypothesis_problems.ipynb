{
  "cells": [
    {
      "cell_type": "markdown",
      "metadata": {
        "id": "view-in-github",
        "colab_type": "text"
      },
      "source": [
        "<a href=\"https://colab.research.google.com/github/Rukawuba/hypothesis-testing-exercises-project-with-python/blob/main/Hypothesis_problems.ipynb\" target=\"_parent\"><img src=\"https://colab.research.google.com/assets/colab-badge.svg\" alt=\"Open In Colab\"/></a>"
      ]
    },
    {
      "cell_type": "markdown",
      "id": "d9d036c6",
      "metadata": {
        "id": "d9d036c6"
      },
      "source": [
        "# Hypothesis testing problems"
      ]
    },
    {
      "cell_type": "markdown",
      "id": "d157c4db",
      "metadata": {
        "id": "d157c4db"
      },
      "source": [
        "## Exercise 1\n",
        "\n",
        "You are a nutritionist researching two different types of diets to see if there is a significant difference in weight loss after one month. You choose two random groups of people; one group follows the first diet, and the other follows the second. At the end of the month, you record the weight loss (in kg) for each person:\n",
        "\n",
        "| Diet 1 | Diet 2 |\n",
        "|:-------|:-------|\n",
        "| 2.0 | 3.0 |\n",
        "| 2.5 | 3.2 |\n",
        "| 3.0 | 3.1 |\n",
        "| 2.8 | 2.9 |\n",
        "| 2.3 | 2.8 |\n",
        "| 2.7 | 3.0 |\n",
        "| 2.5 | 3.2 |\n",
        "\n",
        "With these data, it seeks to answer the following question: Is there a significant difference in average weight loss between people who followed the first diet and those who followed the second diet?\n",
        "\n",
        "To draw conclusions, follow the points below:\n",
        "\n",
        "- State the hypothesis: null and alternative hypothesis.\n",
        "- Perform the test to test the hypothesis. You can use a Student's t-test.\n",
        "- Analyze the conclusions."
      ]
    },
    {
      "cell_type": "code",
      "execution_count": 1,
      "id": "8e0f3cf0",
      "metadata": {
        "colab": {
          "base_uri": "https://localhost:8080/",
          "height": 104
        },
        "id": "8e0f3cf0",
        "outputId": "7b9c3817-3885-42f6-f6dc-c4968330b036"
      },
      "outputs": [
        {
          "output_type": "stream",
          "name": "stdout",
          "text": [
            "t-value:-3.5383407969933938\n",
            "p-value: 0.004083270191713912\n"
          ]
        },
        {
          "output_type": "execute_result",
          "data": {
            "text/plain": [
              "'\\nBecause we see that the p-value is .004 this means it is less than the alpha of 5% (.05) and\\ntherefore we will reject the null hypothesis. This means there is a difference between\\nthe weight loss between the two diets. '"
            ],
            "application/vnd.google.colaboratory.intrinsic+json": {
              "type": "string"
            }
          },
          "metadata": {},
          "execution_count": 1
        }
      ],
      "source": [
        "# TODO\n",
        "\"\"\"\n",
        "The Null hypothesis: There is no difference in people who followed the first diet or the second\n",
        "The Alternate hypothesis: There is a significant difference between the people who followed the first diet and the second.\n",
        "\"\"\"\n",
        "\n",
        "#Students t-test\n",
        "\n",
        "import scipy.stats as stats\n",
        "\n",
        "diet1 = [2.0, 2.5, 3.0,2.8,2.3,2.7,2.5]\n",
        "diet2 = [3.0, 3.2, 3.1, 2.9, 2.8, 3.0, 3.2]\n",
        "\n",
        "t_value, p_value= stats.ttest_ind(diet1, diet2)\n",
        "\n",
        "\n",
        "print(f\"t-value:{t_value}\")\n",
        "print(f\"p-value: {p_value}\")\n",
        "\n",
        "\n",
        "#Analzying Conclusion\n",
        "\"\"\"\n",
        "Because we see that the p-value is .004 this means it is less than the alpha of 5% (.05) and\n",
        "therefore we will reject the null hypothesis. This means there is a difference between\n",
        "the weight loss between the two diets. \"\"\"\n"
      ]
    },
    {
      "cell_type": "markdown",
      "id": "f432e18e",
      "metadata": {
        "id": "f432e18e"
      },
      "source": [
        "## ANOVA\n",
        "\n",
        "**ANOVA** (*Analysis of Variance*) is a statistical technique used to compare the measures of two or more groups. The idea behind ANOVA is to decompose the total variability in the data into two components: between-group variability and within-group variability:\n",
        "\n",
        "- **Between-group variability**: This variability refers to the differences between the group means. If this variability is considerably larger than the within-group variability, it could be an indication that at least one of the group means is different.\n",
        "- **Within-group variability**: This variability refers to the dispersion of the data within each group. If all groups have similar variability, then any noticeable difference in group means could be considered significant.\n",
        "\n",
        "Hypotheses in ANOVA typically include:\n",
        "\n",
        "- **Null hypothesis** ($H₀$): The means of all groups are equal.\n",
        "- **Alternative hypothesis** ($H₁$): At least one of the group means is different.\n",
        "\n",
        "If the ANOVA test result is significant (e.g., a p-value less than a threshold such as 0.05), this suggests that at least one group mean is different."
      ]
    },
    {
      "cell_type": "markdown",
      "id": "fc5f3721",
      "metadata": {
        "id": "fc5f3721"
      },
      "source": [
        "## Exercise 2\n",
        "\n",
        "A farmer decides to test three different types of fertilizers to determine if one is superior in terms of corn production. The farmer plants corn on 15 identical plots and uses all three fertilizers (5 plots for each type). At the end of the season, he measures the corn yield (in kg) of each plot, with the following result:\n",
        "\n",
        "| Fertilizer 1 | Fertilizer 2 | Fertilizer 3 |\n",
        "|:-------------|:-------------|:-------------|\n",
        "| 20 | 22 | 24 |\n",
        "| 21 | 21 | 23 |\n",
        "| 20 | 23 | 22 |\n",
        "| 19 | 22 | 23 |\n",
        "| 20 | 21 | 24 |\n",
        "\n",
        "With this data, he seeks to answer the following question: Is there a significant difference in average corn yield between the three types of fertilizers?\n",
        "\n",
        "To help you, follow the points below:\n",
        "\n",
        "- State the hypothesis: null and alternative hypothesis.\n",
        "- Perform the ANOVA test.\n",
        "- Analyze the conclusions.\n",
        "- If one fertilizer is better than another, how can we know it?"
      ]
    },
    {
      "cell_type": "code",
      "execution_count": 2,
      "id": "eecad0ca",
      "metadata": {
        "colab": {
          "base_uri": "https://localhost:8080/"
        },
        "id": "eecad0ca",
        "outputId": "22204351-db2b-4f92-9497-38083fd4988f"
      },
      "outputs": [
        {
          "output_type": "stream",
          "name": "stdout",
          "text": [
            "f-value:20.315789473684188\n",
            "p-value:0.00014047824793190475\n"
          ]
        }
      ],
      "source": [
        "# TODO\n",
        "\n",
        "\n",
        "\"\"\"State the Hypothesis:\n",
        "Null Hypothesis: All of the fertilizers are the same and they produce the same results.\n",
        "Alternate Hypothesis: One or more od the fertilzers will produce different results.\n",
        "\"\"\"\n",
        "\n",
        "#ANOVA test\n",
        "\n",
        "import scipy.stats as stats\n",
        "fertilizer_1 = [20, 21, 20, 19, 20]\n",
        "fertilizer_2 = [22, 21, 23, 22, 21]\n",
        "fertilizer_3 = [24, 23, 22, 23, 24]\n",
        "\n",
        "\n",
        "f_value, p_value = stats.f_oneway(fertilizer_1, fertilizer_2, fertilizer_3)\n",
        "\n",
        "print(f\"f-value:{f_value}\")\n",
        "print(f\"p-value:{p_value}\")\n"
      ]
    },
    {
      "cell_type": "markdown",
      "source": [
        "After comparing the p-value and seeing that it is .0001 it is way below the threshold of .05 and there for we can reject the null hypothesis and state that there is a difference in the fertilizers and the results that it will produce.."
      ],
      "metadata": {
        "id": "r-Z22mA5JYsG"
      },
      "id": "r-Z22mA5JYsG"
    },
    {
      "cell_type": "code",
      "source": [
        "#identifying which fertilizer is better using post-hoc \"tukey- test\""
      ],
      "metadata": {
        "id": "5PcasvFaJ-hE"
      },
      "id": "5PcasvFaJ-hE",
      "execution_count": 3,
      "outputs": []
    },
    {
      "cell_type": "code",
      "source": [
        "\n",
        "import numpy as np\n",
        "from statsmodels.stats.multicomp import pairwise_tukeyhsd\n",
        "\n",
        "data = np.concatenate([fertilizer_1, fertilizer_2, fertilizer_3])\n",
        "labels = [\"F1\"] * 5 + [\"F2\"] * 5 + [\"F3\"] * 5\n",
        "\n",
        "\n",
        "#tukey test\n",
        "result = pairwise_tukeyhsd(data, labels, alpha = 0.05)\n",
        "print(result)\n",
        "\n",
        "#The third fertlizer would be the best going off the  meandiff column\n",
        "#and how it is the highest"
      ],
      "metadata": {
        "colab": {
          "base_uri": "https://localhost:8080/"
        },
        "id": "teaQayLKLCRC",
        "outputId": "1e2603b0-df26-44c3-e26f-8faf7499ea6a"
      },
      "id": "teaQayLKLCRC",
      "execution_count": 5,
      "outputs": [
        {
          "output_type": "stream",
          "name": "stdout",
          "text": [
            "Multiple Comparison of Means - Tukey HSD, FWER=0.05\n",
            "==================================================\n",
            "group1 group2 meandiff p-adj  lower  upper  reject\n",
            "--------------------------------------------------\n",
            "    F1     F2      1.8 0.0099 0.4572 3.1428   True\n",
            "    F1     F3      3.2 0.0001 1.8572 4.5428   True\n",
            "    F2     F3      1.4 0.0409 0.0572 2.7428   True\n",
            "--------------------------------------------------\n"
          ]
        }
      ]
    }
  ],
  "metadata": {
    "interpreter": {
      "hash": "9248718ffe6ce6938b217e69dbcc175ea21f4c6b28a317e96c05334edae734bb"
    },
    "kernelspec": {
      "display_name": "Python 3.9.12 ('ML-BOOTCAMP')",
      "language": "python",
      "name": "python3"
    },
    "language_info": {
      "codemirror_mode": {
        "name": "ipython",
        "version": 3
      },
      "file_extension": ".py",
      "mimetype": "text/x-python",
      "name": "python",
      "nbconvert_exporter": "python",
      "pygments_lexer": "ipython3",
      "version": "3.11.4"
    },
    "colab": {
      "provenance": [],
      "include_colab_link": true
    }
  },
  "nbformat": 4,
  "nbformat_minor": 5
}